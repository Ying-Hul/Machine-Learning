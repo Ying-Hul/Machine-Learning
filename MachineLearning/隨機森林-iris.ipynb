{
  "nbformat": 4,
  "nbformat_minor": 0,
  "metadata": {
    "colab": {
      "provenance": []
    },
    "kernelspec": {
      "name": "python3",
      "display_name": "Python 3"
    },
    "language_info": {
      "name": "python"
    }
  },
  "cells": [
    {
      "cell_type": "code",
      "source": [
        "# 匯入所需的模組\n",
        "from sklearn.ensemble import RandomForestClassifier  # 匯入隨機森林分類器\n",
        "from sklearn.datasets import load_iris  # 匯入鳶尾花資料集\n",
        "from sklearn.model_selection import train_test_split  # 匯入資料切分工具\n",
        "\n",
        "# 讀入鳶尾花資料集\n",
        "iris = load_iris()  # 載入鳶尾花資料集\n",
        "iris_data = iris.data  # 取得特徵資料（花萼長度、花萼寬度、花瓣長度、花瓣寬度）\n",
        "iris_label = iris.target  # 取得目標標籤（花的種類）\n",
        "\n",
        "# 切分訓練資料與測試資料（70% 訓練、30% 測試）\n",
        "train_data, test_data, train_label, test_label = train_test_split(\n",
        "    iris_data, iris_label, test_size=0.3\n",
        ")\n",
        "\n",
        "# 建立隨機森林分類器\n",
        "clf = RandomForestClassifier(n_estimators=30, max_depth=4)  # 隨機森林有 30 顆樹，樹的最大深度為 4\n",
        "iris_clf = clf.fit(train_data, train_label)  # 用訓練資料訓練分類器\n",
        "\n",
        "# 輸出模型在訓練資料上的準確率\n",
        "print(\"訓練資料正確率:\", clf.score(train_data, train_label))\n",
        "\n",
        "# 輸出模型在測試資料上的準確率\n",
        "print(\"測試資料正確率:\", clf.score(test_data, test_label))\n",
        "\n",
        "# 使用訓練好的模型預測測試資料的結果\n",
        "predict = clf.predict(test_data)\n",
        "\n",
        "# 輸出測試資料的正確答案（實際的花的種類）\n",
        "print(\"標準答案:\", test_label)\n",
        "\n",
        "# 輸出模型預測的結果（模型預測的花的種類）\n",
        "print(\"預測答案:\", predict)\n"
      ],
      "metadata": {
        "colab": {
          "base_uri": "https://localhost:8080/"
        },
        "id": "tXx6-iOsMdY4",
        "outputId": "d278724b-c835-4ca0-99b7-1877c3499704"
      },
      "execution_count": 4,
      "outputs": [
        {
          "output_type": "stream",
          "name": "stdout",
          "text": [
            "訓練資料正確率: 1.0\n",
            "測試資料正確率: 0.9111111111111111\n",
            "標準答案: [2 2 0 0 0 0 1 1 2 1 0 2 1 0 1 2 0 0 2 0 1 2 0 0 0 1 2 1 0 1 2 0 2 2 2 0 2\n",
            " 2 0 1 1 2 2 2 2]\n",
            "預測答案: [2 2 0 0 0 0 2 1 2 1 0 1 1 0 1 1 0 0 1 0 1 2 0 0 0 1 2 1 0 1 2 0 2 2 2 0 2\n",
            " 2 0 1 1 2 2 2 2]\n"
          ]
        }
      ]
    }
  ]
}