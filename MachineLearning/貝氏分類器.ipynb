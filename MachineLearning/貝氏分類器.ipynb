{
  "cells": [
    {
      "cell_type": "code",
      "source": [
        "# 匯入必要的模組\n",
        "from sklearn import datasets  # 用來載入內建資料集\n",
        "from sklearn.naive_bayes import GaussianNB  # 匯入 Gaussian Naive Bayes 分類器\n",
        "from sklearn.model_selection import train_test_split  # 匯入資料切分工具\n",
        "\n",
        "# 載入 Iris 鳶尾花資料集\n",
        "iris = datasets.load_iris()\n",
        "x = iris.data  # 特徵資料（花萼長度、花萼寬度、花瓣長度、花瓣寬度）\n",
        "y = iris.target  # 標籤資料（分類：setosa, versicolor, virginica）\n",
        "\n",
        "# 將資料切分為訓練資料與測試資料，測試資料佔 30%\n",
        "train_data, test_data, train_label, test_label = train_test_split(x, y, test_size=0.3, random_state=0)\n",
        "\n",
        "# 建立 Gaussian Naive Bayes 模型\n",
        "clf = GaussianNB()\n",
        "\n",
        "# 使用訓練資料訓練模型\n",
        "clf.fit(train_data, train_label)\n",
        "\n",
        "# 印出模型在訓練資料上的正確率\n",
        "print(\"訓練資料正確率:\", clf.score(train_data, train_label))  # 訓練資料正確率\n",
        "\n",
        "# 印出模型在測試資料上的正確率\n",
        "print(\"測試資料正確率:\", clf.score(test_data, test_label))  # 測試資料正確率\n",
        "\n",
        "# 使用模型對測試資料進行預測\n",
        "predict = clf.predict(test_data)\n",
        "\n",
        "# 顯示測試資料的正確標籤（標準答案）\n",
        "print(\"標準答案:\", test_label)  # 標準答案\n",
        "\n",
        "# 顯示模型預測的標籤\n",
        "print(\"預測答案:\", predict)  # 預測答案\n"
      ],
      "metadata": {
        "id": "0xg2vk3fltmu",
        "colab": {
          "base_uri": "https://localhost:8080/"
        },
        "outputId": "bf08c283-ab43-471a-80e1-49a81499cec1"
      },
      "execution_count": null,
      "outputs": [
        {
          "output_type": "stream",
          "name": "stdout",
          "text": [
            "訓練資料正確率: 0.9428571428571428\n",
            "測試資料正確率: 1.0\n",
            "標準答案: [2 1 0 2 0 2 0 1 1 1 2 1 1 1 1 0 1 1 0 0 2 1 0 0 2 0 0 1 1 0 2 1 0 2 2 1 0\n",
            " 1 1 1 2 0 2 0 0]\n",
            "預測答案: [2 1 0 2 0 2 0 1 1 1 2 1 1 1 1 0 1 1 0 0 2 1 0 0 2 0 0 1 1 0 2 1 0 2 2 1 0\n",
            " 1 1 1 2 0 2 0 0]\n"
          ]
        }
      ]
    }
  ],
  "metadata": {
    "colab": {
      "toc_visible": true,
      "provenance": []
    },
    "kernelspec": {
      "display_name": "Python 3",
      "name": "python3"
    }
  },
  "nbformat": 4,
  "nbformat_minor": 0
}