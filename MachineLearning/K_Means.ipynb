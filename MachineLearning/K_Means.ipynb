{
  "cells": [
    {
      "cell_type": "code",
      "source": [
        "from sklearn.cluster import KMeans         # 匯入 KMeans 分群模型\n",
        "from sklearn.datasets import load_iris     # 匯入鳶尾花資料集\n",
        "from sklearn.metrics import accuracy_score # 匯入計算準確率的函式\n",
        "\n",
        "# 讀入鳶尾花資料集\n",
        "iris = load_iris()\n",
        "iris_data = iris.data       # 特徵資料（花萼長度、花萼寬度、花瓣長度、花瓣寬度）\n",
        "iris_label = iris.target    # 真實標籤（0=setosa, 1=versicolor, 2=virginica）\n",
        "\n",
        "# 建立 KMeans 分群模型，設定分成 3 群（因為鳶尾花有三種品種）\n",
        "clf = KMeans(n_clusters=3)\n",
        "iris_clf = clf.fit(iris_data)   # 對資料進行分群訓練\n",
        "\n",
        "# 取得分群後的標籤（模型預測的群集編號）\n",
        "cluster_labels = iris_clf.labels_\n",
        "print(\"分群結果：\")\n",
        "print(cluster_labels)\n",
        "\n",
        "# 印出原始資料的真實標籤\n",
        "print(\"真實品種：\")\n",
        "print(iris_label)\n",
        "\n",
        "# 計算預測群集與真實標籤之間的準確率\n",
        "# ⚠️ 注意：KMeans 分群不一定會對應正確標籤順序，可能需重新對應群集與標籤\n",
        "print(accuracy_score(cluster_labels, iris_label))"
      ],
      "metadata": {
        "id": "E13_IUoRsA2d"
      },
      "execution_count": null,
      "outputs": []
    }
  ],
  "metadata": {
    "colab": {
      "toc_visible": true,
      "provenance": []
    },
    "kernelspec": {
      "display_name": "Python 3",
      "name": "python3"
    }
  },
  "nbformat": 4,
  "nbformat_minor": 0
}