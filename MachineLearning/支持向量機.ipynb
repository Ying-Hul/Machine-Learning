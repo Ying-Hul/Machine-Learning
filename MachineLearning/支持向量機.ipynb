{
  "cells": [
    {
      "cell_type": "code",
      "source": [
        "# 匯入必要的模組\n",
        "from sklearn import datasets, svm  # 載入內建資料集與支援向量機分類器\n",
        "from sklearn.model_selection import train_test_split  # 載入資料切分工具\n",
        "\n",
        "# 載入 Iris 鳶尾花資料集\n",
        "iris = datasets.load_iris()\n",
        "x = iris.data   # 特徵資料（花萼長度、花萼寬度、花瓣長度、花瓣寬度）\n",
        "y = iris.target # 標籤資料（類別：0=setosa, 1=versicolor, 2=virginica）\n",
        "\n",
        "# 將資料切分為訓練資料與測試資料，測試資料佔 30%\n",
        "train_data, test_data, train_label, test_label = train_test_split(x, y, test_size=0.3, random_state=0)\n",
        "\n",
        "# 建立 SVM 分類器（使用多項式 kernel，gamma 設為 'auto'，C 值為 100）\n",
        "clf = svm.SVC(kernel='poly', gamma='auto', C=100)\n",
        "\n",
        "# 使用訓練資料訓練模型\n",
        "clf.fit(train_data, train_label)\n",
        "\n",
        "# 印出模型在訓練資料上的正確率\n",
        "print(\"訓練資料正確率:\", clf.score(train_data, train_label))  # 訓練資料正確率\n",
        "\n",
        "# 印出模型在測試資料上的正確率\n",
        "print(\"測試資料正確率:\", clf.score(test_data, test_label))  # 測試資料正確率\n",
        "\n",
        "# 使用模型對測試資料進行預測\n",
        "predict = clf.predict(test_data)\n",
        "\n",
        "# 顯示測試資料的正確標籤（標準答案）\n",
        "print(\"標準答案:\", test_label)  # 標準答案\n",
        "\n",
        "# 顯示模型預測的標籤\n",
        "print(\"預測答案:\", predict)  # 預測答案\n"
      ],
      "metadata": {
        "id": "3pib2UIDtho2"
      },
      "execution_count": null,
      "outputs": []
    }
  ],
  "metadata": {
    "colab": {
      "provenance": []
    },
    "kernelspec": {
      "display_name": "Python 3",
      "name": "python3"
    }
  },
  "nbformat": 4,
  "nbformat_minor": 0
}