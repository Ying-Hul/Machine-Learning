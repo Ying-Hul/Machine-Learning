{
  "cells": [
    {
      "cell_type": "code",
      "source": [
        "from sklearn import datasets, svm\n",
        "from sklearn.model_selection import train_test_split\n",
        "\n",
        "iris=datasets.load_iris()\n",
        "x=iris.data\n",
        "y=iris.target\n",
        "train_data, test_data, train_label, test_label = train_test_split(x, y,test_size=0.3,random_state=0)\n",
        "clf=svm.SVC(kernel='poly',gamma='auto',C=100)\n",
        "clf.fit(train_data,train_label)\n",
        "print(\"訓練資料正確率:\",clf.score(train_data,train_label)) # 訓練資料正確率\n",
        "print(\"測試資料正確率:\",clf.score(test_data, test_label)) # 測試資料正確率\n",
        "predict=clf.predict(test_data)\n",
        "print(\"標準答案:\",test_label) # 標準答案\n",
        "print(\"預測答案:\",predict) # 預測答案"
      ],
      "metadata": {
        "id": "3pib2UIDtho2"
      },
      "execution_count": null,
      "outputs": []
    }
  ],
  "metadata": {
    "colab": {
      "toc_visible": true,
      "provenance": []
    },
    "kernelspec": {
      "display_name": "Python 3",
      "name": "python3"
    }
  },
  "nbformat": 4,
  "nbformat_minor": 0
}